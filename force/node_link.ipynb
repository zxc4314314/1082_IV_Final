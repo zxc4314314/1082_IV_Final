{
 "cells": [
  {
   "cell_type": "code",
   "execution_count": 1,
   "metadata": {},
   "outputs": [],
   "source": [
    "import csv\n",
    "import json\n",
    "import random"
   ]
  },
  {
   "cell_type": "code",
   "execution_count": 2,
   "metadata": {},
   "outputs": [],
   "source": [
    "valence = list()\n",
    "c5 = list()\n",
    "C5 = [list() for _ in range(5)]"
   ]
  },
  {
   "cell_type": "code",
   "execution_count": 3,
   "metadata": {},
   "outputs": [],
   "source": [
    "val = \"valence\""
   ]
  },
  {
   "cell_type": "code",
   "execution_count": 4,
   "metadata": {},
   "outputs": [],
   "source": [
    "with open('final.csv', newline='') as csvfile:\n",
    "    c5 = list()\n",
    "\n",
    "    rows = csv.DictReader(csvfile)\n",
    "\n",
    "    term = dict()\n",
    "\n",
    "    for row in rows:\n",
    "        temp_dict = dict()\n",
    "#        term[row[\"Term\"]] = dict()\n",
    "        temp_dict[\"term\"] = row[\"Term\"]\n",
    "        temp_dict[\"position\"] = row[\"C5_Modal\"]\n",
    "        temp_dict[\"valence\"] = float(row[\"valence\"])\n",
    "        temp_dict[\"typicality\"] = float(row[\"typicality\"])\n",
    "        \n",
    "        c5.append(temp_dict)"
   ]
  },
  {
   "cell_type": "code",
   "execution_count": 5,
   "metadata": {},
   "outputs": [
    {
     "data": {
      "text/plain": [
       "[{'term': '絕望', 'position': '2', 'valence': 1.42, 'typicality': 4.12},\n",
       " {'term': '憎恨', 'position': '2', 'valence': 1.56, 'typicality': 6.34},\n",
       " {'term': '暴怒', 'position': '2', 'valence': 1.69, 'typicality': 6.34},\n",
       " {'term': '狂悲', 'position': '2', 'valence': 1.75, 'typicality': 3.13},\n",
       " {'term': '憎惡', 'position': '2', 'valence': 1.85, 'typicality': 5.53},\n",
       " {'term': '怨恨', 'position': '2', 'valence': 1.87, 'typicality': 6.72},\n",
       " {'term': '可恨', 'position': '2', 'valence': 2.02, 'typicality': 6.09},\n",
       " {'term': '痛惡', 'position': '2', 'valence': 2.04, 'typicality': 5.14},\n",
       " {'term': '可憎', 'position': '2', 'valence': 2.05, 'typicality': 5.07},\n",
       " {'term': '痛恨', 'position': '2', 'valence': 2.07, 'typicality': 5.7},\n",
       " {'term': '憤恨', 'position': '2', 'valence': 2.08, 'typicality': 3.47},\n",
       " {'term': '憂鬱', 'position': '1', 'valence': 2.14, 'typicality': 7.24},\n",
       " {'term': '沉痛', 'position': '2', 'valence': 2.21, 'typicality': 5.18},\n",
       " {'term': '哀痛', 'position': '3', 'valence': 2.22, 'typicality': 5.85},\n",
       " {'term': '悲慘', 'position': '2', 'valence': 2.22, 'typicality': 3.74},\n",
       " {'term': '悲慟', 'position': '2', 'valence': 2.23, 'typicality': 3.45},\n",
       " {'term': '悲鬱', 'position': '1', 'valence': 2.23, 'typicality': 5.49},\n",
       " {'term': '鬱悶', 'position': '2', 'valence': 2.23, 'typicality': 6.17},\n",
       " {'term': '悽慘', 'position': '2', 'valence': 2.24, 'typicality': 4.6},\n",
       " {'term': '痛苦', 'position': '2', 'valence': 2.24, 'typicality': 6.58},\n",
       " {'term': '盛怒', 'position': '2', 'valence': 2.25, 'typicality': 5.41},\n",
       " {'term': '悲痛', 'position': '2', 'valence': 2.25, 'typicality': 3.54},\n",
       " {'term': '悲愴', 'position': '2', 'valence': 2.25, 'typicality': 4.85},\n",
       " {'term': '震怒', 'position': '2', 'valence': 2.27, 'typicality': 6.18},\n",
       " {'term': '憤怒', 'position': '2', 'valence': 2.3, 'typicality': 6.89},\n",
       " {'term': '忿怒', 'position': '2', 'valence': 2.33, 'typicality': 4.03},\n",
       " {'term': '氣憤', 'position': '1', 'valence': 2.35, 'typicality': 6.86},\n",
       " {'term': '沉鬱', 'position': '1', 'valence': 2.36, 'typicality': 4.93},\n",
       " {'term': '悲憤', 'position': '2', 'valence': 2.36, 'typicality': 5.49},\n",
       " {'term': '恐怖', 'position': '2', 'valence': 2.37, 'typicality': 5.92},\n",
       " {'term': '痛心', 'position': '2', 'valence': 2.37, 'typicality': 4.07},\n",
       " {'term': '厭惡', 'position': '1', 'valence': 2.41, 'typicality': 6.67},\n",
       " {'term': '躁鬱', 'position': '2', 'valence': 2.42, 'typicality': 3.92},\n",
       " {'term': '懼怕', 'position': '2', 'valence': 2.43, 'typicality': 5.94},\n",
       " {'term': '惱火', 'position': '2', 'valence': 2.44, 'typicality': 5.27},\n",
       " {'term': '可惡', 'position': '2', 'valence': 2.45, 'typicality': 6.56},\n",
       " {'term': '怨憤悵惘', 'position': '2', 'valence': 2.45, 'typicality': 3.93},\n",
       " {'term': '恐懼', 'position': '1', 'valence': 2.45, 'typicality': 6.54},\n",
       " {'term': '悔恨', 'position': '2', 'valence': 2.45, 'typicality': 4.56},\n",
       " {'term': '哀戚', 'position': '3', 'valence': 2.48, 'typicality': 4.45},\n",
       " {'term': '悲傷', 'position': '1', 'valence': 2.48, 'typicality': 6.31},\n",
       " {'term': '惱怒', 'position': '2', 'valence': 2.49, 'typicality': 5.55},\n",
       " {'term': '悲苦', 'position': '2', 'valence': 2.5, 'typicality': 5.59},\n",
       " {'term': '嫌惡', 'position': '1', 'valence': 2.52, 'typicality': 6.06},\n",
       " {'term': '觸怒', 'position': '2', 'valence': 2.52, 'typicality': 3.51},\n",
       " {'term': '悲情', 'position': '3', 'valence': 2.53, 'typicality': 3.51},\n",
       " {'term': '心痛', 'position': '2', 'valence': 2.55, 'typicality': 4.49},\n",
       " {'term': '驚駭', 'position': '2', 'valence': 2.55, 'typicality': 4.24},\n",
       " {'term': '悲哀', 'position': '1', 'valence': 2.57, 'typicality': 6.36},\n",
       " {'term': '傷痛', 'position': '2', 'valence': 2.58, 'typicality': 4.37},\n",
       " {'term': '嫌憎', 'position': '3', 'valence': 2.62, 'typicality': 4.26},\n",
       " {'term': '悲切', 'position': '3', 'valence': 2.63, 'typicality': 3.61},\n",
       " {'term': '悽楚', 'position': '3', 'valence': 2.64, 'typicality': 2.87},\n",
       " {'term': '憂傷', 'position': '1', 'valence': 2.66, 'typicality': 7.01},\n",
       " {'term': '憂愁', 'position': '1', 'valence': 2.66, 'typicality': 6.38},\n",
       " {'term': '恐慌', 'position': '2', 'valence': 2.67, 'typicality': 3.91},\n",
       " {'term': '憂憤', 'position': '2', 'valence': 2.67, 'typicality': 3.32},\n",
       " {'term': '抑鬱', 'position': '1', 'valence': 2.69, 'typicality': 5.45},\n",
       " {'term': '氣惱', 'position': '2', 'valence': 2.69, 'typicality': 5.1},\n",
       " {'term': '激憤', 'position': '2', 'valence': 2.69, 'typicality': 5.12},\n",
       " {'term': '生氣', 'position': '1', 'valence': 2.7, 'typicality': 7.82},\n",
       " {'term': '酸楚', 'position': '3', 'valence': 2.71, 'typicality': 4.67},\n",
       " {'term': '心驚膽顫', 'position': '2', 'valence': 2.72, 'typicality': 5.16},\n",
       " {'term': '如坐針氈', 'position': '3', 'valence': 2.75, 'typicality': 4.62},\n",
       " {'term': '敵視', 'position': '2', 'valence': 2.75, 'typicality': 4.57},\n",
       " {'term': '悲愁', 'position': '3', 'valence': 2.76, 'typicality': 3.37},\n",
       " {'term': '哀傷', 'position': '1', 'valence': 2.78, 'typicality': 6.28},\n",
       " {'term': '心急如焚', 'position': '1', 'valence': 2.8, 'typicality': 6.06},\n",
       " {'term': '沮喪', 'position': '3', 'valence': 2.8, 'typicality': 5.44},\n",
       " {'term': '嫌怨', 'position': '2', 'valence': 2.8, 'typicality': 3.98},\n",
       " {'term': '哀怨', 'position': '1', 'valence': 2.82, 'typicality': 5.57},\n",
       " {'term': '愁苦', 'position': '1', 'valence': 2.84, 'typicality': 5.21},\n",
       " {'term': '煩躁', 'position': '1', 'valence': 2.84, 'typicality': 5.34},\n",
       " {'term': '落寞', 'position': '3', 'valence': 2.86, 'typicality': 4.25},\n",
       " {'term': '傷心', 'position': '1', 'valence': 2.89, 'typicality': 6.88},\n",
       " {'term': '嫉妒', 'position': '1', 'valence': 2.9, 'typicality': 5.1},\n",
       " {'term': '悲涼', 'position': '3', 'valence': 2.91, 'typicality': 3.05},\n",
       " {'term': '厭煩', 'position': '1', 'valence': 2.92, 'typicality': 5.31},\n",
       " {'term': '難過', 'position': '1', 'valence': 2.92, 'typicality': 5.81},\n",
       " {'term': '心驚肉跳', 'position': '3', 'valence': 2.93, 'typicality': 4.8},\n",
       " {'term': '畏懼', 'position': '3', 'valence': 2.93, 'typicality': 5.96},\n",
       " {'term': '愁悵', 'position': '1', 'valence': 2.93, 'typicality': 3.81},\n",
       " {'term': '煩憂', 'position': '2', 'valence': 2.93, 'typicality': 5.82},\n",
       " {'term': '憂煩', 'position': '2', 'valence': 2.93, 'typicality': 4.45},\n",
       " {'term': '失落', 'position': '1', 'valence': 2.94, 'typicality': 4.89},\n",
       " {'term': '心酸', 'position': '3', 'valence': 2.95, 'typicality': 5.97},\n",
       " {'term': '畏怯', 'position': '3', 'valence': 2.95, 'typicality': 5.16},\n",
       " {'term': '嫌隙', 'position': '1', 'valence': 2.95, 'typicality': 4.21},\n",
       " {'term': '焦慮', 'position': '3', 'valence': 2.96, 'typicality': 6.45},\n",
       " {'term': '鬱卒', 'position': '1', 'valence': 2.96, 'typicality': 4.74},\n",
       " {'term': '害怕', 'position': '1', 'valence': 2.97, 'typicality': 6.86},\n",
       " {'term': '憤慨', 'position': '1', 'valence': 2.97, 'typicality': 5.55},\n",
       " {'term': '焦躁', 'position': '1', 'valence': 2.98, 'typicality': 6.31},\n",
       " {'term': '傷感', 'position': '1', 'valence': 2.98, 'typicality': 6.08},\n",
       " {'term': '氣不過', 'position': '1', 'valence': 3.0, 'typicality': 4.52},\n",
       " {'term': '討厭', 'position': '2', 'valence': 3.0, 'typicality': 5.64},\n",
       " {'term': '心焦', 'position': '1', 'valence': 3.01, 'typicality': 3.74},\n",
       " {'term': '失望', 'position': '2', 'valence': 3.01, 'typicality': 5.48},\n",
       " {'term': '殷憂', 'position': '3', 'valence': 3.02, 'typicality': 3.7},\n",
       " {'term': '哀愁', 'position': '3', 'valence': 3.03, 'typicality': 4.29},\n",
       " {'term': '憂悶', 'position': '3', 'valence': 3.06, 'typicality': 3.82},\n",
       " {'term': '膽怯', 'position': '1', 'valence': 3.07, 'typicality': 6.05},\n",
       " {'term': '憂惱', 'position': '3', 'valence': 3.09, 'typicality': 3.9},\n",
       " {'term': '膽戰心驚', 'position': '2', 'valence': 3.1, 'typicality': 5.43},\n",
       " {'term': '驚恐', 'position': '2', 'valence': 3.1, 'typicality': 6.39},\n",
       " {'term': '哀思', 'position': '3', 'valence': 3.11, 'typicality': 4.12},\n",
       " {'term': '焦心', 'position': '2', 'valence': 3.12, 'typicality': 3.73},\n",
       " {'term': '苦惱', 'position': '3', 'valence': 3.13, 'typicality': 4.51},\n",
       " {'term': '苦澀', 'position': '3', 'valence': 3.15, 'typicality': 5.09},\n",
       " {'term': '寂寥', 'position': '3', 'valence': 3.15, 'typicality': 3.65},\n",
       " {'term': '驚嚇', 'position': '2', 'valence': 3.18, 'typicality': 5.75},\n",
       " {'term': '懊惱', 'position': '1', 'valence': 3.19, 'typicality': 4.92},\n",
       " {'term': '苦悶', 'position': '3', 'valence': 3.2, 'typicality': 4.24},\n",
       " {'term': '急躁', 'position': '1', 'valence': 3.22, 'typicality': 6.47},\n",
       " {'term': '煩悶', 'position': '1', 'valence': 3.23, 'typicality': 5.33},\n",
       " {'term': '憂心', 'position': '1', 'valence': 3.23, 'typicality': 4.75},\n",
       " {'term': '反感', 'position': '1', 'valence': 3.24, 'typicality': 5.69},\n",
       " {'term': '犯愁', 'position': '3', 'valence': 3.24, 'typicality': 3.8},\n",
       " {'term': '寂寞', 'position': '3', 'valence': 3.24, 'typicality': 5.81},\n",
       " {'term': '惆悵', 'position': '1', 'valence': 3.24, 'typicality': 3.93},\n",
       " {'term': '發愁', 'position': '1', 'valence': 3.24, 'typicality': 5.58},\n",
       " {'term': '心慌', 'position': '1', 'valence': 3.25, 'typicality': 4.09},\n",
       " {'term': '憂慮', 'position': '2', 'valence': 3.25, 'typicality': 6.65},\n",
       " {'term': '愁悶', 'position': '1', 'valence': 3.26, 'typicality': 5.2},\n",
       " {'term': '心煩', 'position': '1', 'valence': 3.28, 'typicality': 5.52},\n",
       " {'term': '忐忑不安', 'position': '2', 'valence': 3.28, 'typicality': 5.78},\n",
       " {'term': '焦灼', 'position': '1', 'valence': 3.28, 'typicality': 4.16},\n",
       " {'term': '煩心', 'position': '1', 'valence': 3.31, 'typicality': 5.48},\n",
       " {'term': '躁急', 'position': '2', 'valence': 3.31, 'typicality': 4.31},\n",
       " {'term': '焦急', 'position': '1', 'valence': 3.32, 'typicality': 6.04},\n",
       " {'term': '浮躁', 'position': '1', 'valence': 3.33, 'typicality': 6.05},\n",
       " {'term': '辛酸', 'position': '3', 'valence': 3.34, 'typicality': 5.02},\n",
       " {'term': '羞愧', 'position': '3', 'valence': 3.34, 'typicality': 4.88},\n",
       " {'term': '惶惑', 'position': '3', 'valence': 3.34, 'typicality': 4.19},\n",
       " {'term': '惶惶', 'position': '3', 'valence': 3.35, 'typicality': 4.06},\n",
       " {'term': '驚慌', 'position': '2', 'valence': 3.37, 'typicality': 4.17},\n",
       " {'term': '擔憂', 'position': '1', 'valence': 3.39, 'typicality': 6.28},\n",
       " {'term': '漠然', 'position': '3', 'valence': 3.43, 'typicality': 3.92},\n",
       " {'term': '悵然', 'position': '3', 'valence': 3.51, 'typicality': 3.71},\n",
       " {'term': '受驚', 'position': '2', 'valence': 3.55, 'typicality': 5.06},\n",
       " {'term': '煩惱', 'position': '1', 'valence': 3.56, 'typicality': 5.83},\n",
       " {'term': '心有餘悸', 'position': '2', 'valence': 3.59, 'typicality': 5.17},\n",
       " {'term': '操心', 'position': '1', 'valence': 3.6, 'typicality': 6.36},\n",
       " {'term': '擔心', 'position': '1', 'valence': 3.6, 'typicality': 6.48},\n",
       " {'term': '誠惶誠恐', 'position': '3', 'valence': 3.61, 'typicality': 4.16},\n",
       " {'term': '著急', 'position': '1', 'valence': 3.62, 'typicality': 6.69},\n",
       " {'term': '慌張', 'position': '1', 'valence': 3.69, 'typicality': 4.82},\n",
       " {'term': '心急', 'position': '1', 'valence': 3.71, 'typicality': 6.19},\n",
       " {'term': '徬徨', 'position': '3', 'valence': 3.78, 'typicality': 4.51},\n",
       " {'term': '無奈', 'position': '4', 'valence': 3.92, 'typicality': 5.49},\n",
       " {'term': '牽腸掛肚', 'position': '1', 'valence': 3.95, 'typicality': 5.31},\n",
       " {'term': '急切', 'position': '1', 'valence': 3.98, 'typicality': 5.58},\n",
       " {'term': '尷尬', 'position': '1', 'valence': 3.99, 'typicality': 5.38},\n",
       " {'term': '牽掛', 'position': '1', 'valence': 4.03, 'typicality': 5.75},\n",
       " {'term': '悻悻', 'position': '3', 'valence': 4.09, 'typicality': 4.19},\n",
       " {'term': '望穿秋水', 'position': '3', 'valence': 4.11, 'typicality': 3.75},\n",
       " {'term': '緊張', 'position': '1', 'valence': 4.11, 'typicality': 6.18},\n",
       " {'term': '貪戀', 'position': '3', 'valence': 4.14, 'typicality': 4.25},\n",
       " {'term': '掛念', 'position': '1', 'valence': 4.39, 'typicality': 5.64},\n",
       " {'term': '害羞', 'position': '4', 'valence': 4.9, 'typicality': 5.47},\n",
       " {'term': '心醉', 'position': '3', 'valence': 5.06, 'typicality': 3.68},\n",
       " {'term': '平淡', 'position': '4', 'valence': 5.11, 'typicality': 5.96},\n",
       " {'term': '期求', 'position': '4', 'valence': 5.2, 'typicality': 4.23},\n",
       " {'term': '驚訝', 'position': '4', 'valence': 5.26, 'typicality': 5.68},\n",
       " {'term': '思念', 'position': '5', 'valence': 5.33, 'typicality': 6.82},\n",
       " {'term': '好受', 'position': '4', 'valence': 5.35, 'typicality': 3.62},\n",
       " {'term': '入神', 'position': '4', 'valence': 5.39, 'typicality': 4.65},\n",
       " {'term': '眷戀', 'position': '4', 'valence': 5.51, 'typicality': 5.4},\n",
       " {'term': '意欲', 'position': '4', 'valence': 5.57, 'typicality': 3.95},\n",
       " {'term': '平靜', 'position': '4', 'valence': 5.6, 'typicality': 6.42},\n",
       " {'term': '想要', 'position': '5', 'valence': 5.8, 'typicality': 5.79},\n",
       " {'term': '懷念', 'position': '5', 'valence': 5.95, 'typicality': 6.53},\n",
       " {'term': '想念', 'position': '5', 'valence': 5.99, 'typicality': 6.8},\n",
       " {'term': '入迷', 'position': '4', 'valence': 6.08, 'typicality': 5.44},\n",
       " {'term': '著迷', 'position': '4', 'valence': 6.12, 'typicality': 5.89},\n",
       " {'term': '慶幸', 'position': '4', 'valence': 6.24, 'typicality': 5.18},\n",
       " {'term': '期望', 'position': '4', 'valence': 6.28, 'typicality': 5.38},\n",
       " {'term': '欣然', 'position': '4', 'valence': 6.35, 'typicality': 5.24},\n",
       " {'term': '仰慕', 'position': '4', 'valence': 6.46, 'typicality': 5.58},\n",
       " {'term': '盼望', 'position': '5', 'valence': 6.57, 'typicality': 5.85},\n",
       " {'term': '嚮往', 'position': '5', 'valence': 6.58, 'typicality': 5.65},\n",
       " {'term': '舒坦', 'position': '4', 'valence': 6.64, 'typicality': 5.54},\n",
       " {'term': '可喜', 'position': '4', 'valence': 6.8, 'typicality': 5.36},\n",
       " {'term': '豁朗', 'position': '4', 'valence': 6.87, 'typicality': 5.08},\n",
       " {'term': '快意', 'position': '4', 'valence': 6.88, 'typicality': 4.89},\n",
       " {'term': '痛快', 'position': '4', 'valence': 6.96, 'typicality': 5.88},\n",
       " {'term': '舒暢', 'position': '4', 'valence': 7.01, 'typicality': 5.69},\n",
       " {'term': '爽快', 'position': '4', 'valence': 7.05, 'typicality': 5.86},\n",
       " {'term': '甜美', 'position': '4', 'valence': 7.16, 'typicality': 4.92},\n",
       " {'term': '期待', 'position': '5', 'valence': 7.21, 'typicality': 6.8},\n",
       " {'term': '欣喜', 'position': '5', 'valence': 7.23, 'typicality': 6.59},\n",
       " {'term': '心花怒放', 'position': '4', 'valence': 7.24, 'typicality': 5.94},\n",
       " {'term': '驚喜', 'position': '4', 'valence': 7.24, 'typicality': 6.06},\n",
       " {'term': '歡欣', 'position': '5', 'valence': 7.25, 'typicality': 6.16},\n",
       " {'term': '快活', 'position': '4', 'valence': 7.26, 'typicality': 5.52},\n",
       " {'term': '喜悅', 'position': '5', 'valence': 7.26, 'typicality': 7.66},\n",
       " {'term': '歡喜', 'position': '5', 'valence': 7.27, 'typicality': 7.04},\n",
       " {'term': '開懷', 'position': '5', 'valence': 7.28, 'typicality': 6.16},\n",
       " {'term': '愉快', 'position': '5', 'valence': 7.34, 'typicality': 7.68},\n",
       " {'term': '歡暢', 'position': '4', 'valence': 7.36, 'typicality': 5.43},\n",
       " {'term': '愉悅', 'position': '5', 'valence': 7.42, 'typicality': 7.54},\n",
       " {'term': '喜歡', 'position': '5', 'valence': 7.45, 'typicality': 7.64},\n",
       " {'term': '心曠神怡', 'position': '4', 'valence': 7.46, 'typicality': 5.45},\n",
       " {'term': '喜愛', 'position': '5', 'valence': 7.47, 'typicality': 7.05},\n",
       " {'term': '歡悅', 'position': '5', 'valence': 7.47, 'typicality': 6.55},\n",
       " {'term': '暢快', 'position': '5', 'valence': 7.49, 'typicality': 6.04},\n",
       " {'term': '歡愉', 'position': '5', 'valence': 7.57, 'typicality': 6.59},\n",
       " {'term': '喜出望外', 'position': '4', 'valence': 7.58, 'typicality': 5.34},\n",
       " {'term': '雀躍', 'position': '5', 'valence': 7.61, 'typicality': 6.74},\n",
       " {'term': '高興', 'position': '5', 'valence': 7.66, 'typicality': 8.03},\n",
       " {'term': '滿足', 'position': '5', 'valence': 7.69, 'typicality': 6.35},\n",
       " {'term': '開心', 'position': '5', 'valence': 7.73, 'typicality': 7.37},\n",
       " {'term': '狂喜', 'position': '4', 'valence': 7.89, 'typicality': 5.84},\n",
       " {'term': '爽', 'position': '4', 'valence': 7.92, 'typicality': 6.03},\n",
       " {'term': '幸福', 'position': '5', 'valence': 7.94, 'typicality': 6.85},\n",
       " {'term': '快樂', 'position': '5', 'valence': 8.0, 'typicality': 8.15},\n",
       " {'term': '甜蜜', 'position': '5', 'valence': 8.05, 'typicality': 6.82},\n",
       " {'term': '愛', 'position': '5', 'valence': 8.16, 'typicality': 6.57}]"
      ]
     },
     "execution_count": 5,
     "metadata": {},
     "output_type": "execute_result"
    }
   ],
   "source": [
    "c5"
   ]
  },
  {
   "cell_type": "code",
   "execution_count": 6,
   "metadata": {},
   "outputs": [],
   "source": [
    "temp = list()\n",
    "link = dict()\n",
    "\n",
    "for i in range(len(c5)):\n",
    "    temp = list()\n",
    "    for t in c5:\n",
    "        term = dict()\n",
    "        term[\"term\"] = t[\"term\"]\n",
    "        term[\"dis\"] = abs(t[val]-c5[i][val])\n",
    "        temp.append(term)\n",
    "        temp= sorted(temp, key=lambda k: k['dis'], reverse=False)\n",
    "        link[c5[i][\"term\"]] = temp[1:11]\n"
   ]
  },
  {
   "cell_type": "code",
   "execution_count": 7,
   "metadata": {},
   "outputs": [],
   "source": [
    "center_ = {'id': 'center', 'position': '0'}\n",
    "center = list()"
   ]
  },
  {
   "cell_type": "code",
   "execution_count": 8,
   "metadata": {},
   "outputs": [],
   "source": [
    "C5 = list()\n",
    "for t in c5:\n",
    "#    print(t)\n",
    "    temp = dict()\n",
    "    temp[\"id\"] = t[\"term\"]\n",
    "    temp[\"position\"] = t[\"position\"]\n",
    "    C5.append(temp)"
   ]
  },
  {
   "cell_type": "code",
   "execution_count": 9,
   "metadata": {},
   "outputs": [],
   "source": [
    "center = list()\n",
    "for t in C5:\n",
    "    temp = dict()\n",
    "    temp[\"source\"] = \"center\"\n",
    "    temp[\"target\"] = t[\"id\"]\n",
    "    temp[\"value\"] = 1\n",
    "    center.append(temp)"
   ]
  },
  {
   "cell_type": "code",
   "execution_count": null,
   "metadata": {},
   "outputs": [],
   "source": []
  },
  {
   "cell_type": "code",
   "execution_count": null,
   "metadata": {},
   "outputs": [],
   "source": []
  },
  {
   "cell_type": "code",
   "execution_count": 10,
   "metadata": {},
   "outputs": [],
   "source": [
    "links = list()\n",
    "for k, v in link.items():\n",
    "    for t in v:\n",
    "        temp = dict()\n",
    "        temp[\"source\"] = k\n",
    "        temp[\"target\"] = t[\"term\"]\n",
    "        temp[\"value\"] = t[\"dis\"]\n",
    "        links.append(temp)"
   ]
  },
  {
   "cell_type": "code",
   "execution_count": 11,
   "metadata": {},
   "outputs": [
    {
     "data": {
      "text/plain": [
       "{'source': '愛', 'target': '喜出望外', 'value': 0.5800000000000001}"
      ]
     },
     "execution_count": 11,
     "metadata": {},
     "output_type": "execute_result"
    }
   ],
   "source": [
    "temp"
   ]
  },
  {
   "cell_type": "code",
   "execution_count": 15,
   "metadata": {},
   "outputs": [],
   "source": [
    "links.extend(center)\n",
    "C5.append(center_)"
   ]
  },
  {
   "cell_type": "code",
   "execution_count": null,
   "metadata": {},
   "outputs": [],
   "source": []
  },
  {
   "cell_type": "code",
   "execution_count": 16,
   "metadata": {},
   "outputs": [],
   "source": [
    "j = dict()\n",
    "j[\"nodes\"] = C5\n",
    "j[\"links\"] = links"
   ]
  },
  {
   "cell_type": "code",
   "execution_count": 17,
   "metadata": {},
   "outputs": [],
   "source": [
    "with open(\"./demo.json\", \"w\", encoding=\"utf-8\") as f:\n",
    "    json.dump(j, f)"
   ]
  },
  {
   "cell_type": "code",
   "execution_count": null,
   "metadata": {},
   "outputs": [],
   "source": []
  },
  {
   "cell_type": "code",
   "execution_count": null,
   "metadata": {},
   "outputs": [],
   "source": []
  }
 ],
 "metadata": {
  "kernelspec": {
   "display_name": "Python 3",
   "language": "python",
   "name": "python3"
  },
  "language_info": {
   "codemirror_mode": {
    "name": "ipython",
    "version": 3
   },
   "file_extension": ".py",
   "mimetype": "text/x-python",
   "name": "python",
   "nbconvert_exporter": "python",
   "pygments_lexer": "ipython3",
   "version": "3.7.7"
  }
 },
 "nbformat": 4,
 "nbformat_minor": 4
}
